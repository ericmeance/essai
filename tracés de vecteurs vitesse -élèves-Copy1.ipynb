{
 "cells": [
  {
   "cell_type": "markdown",
   "metadata": {},
   "source": [
    "### Tracés de vecteurs vitesse avec python\n",
    "Il va falloir allier des compétences en physique, en mathématiques( coordonnées d'un vecteur) et en informatique ( on va y aller doucement).\n",
    "\n",
    "Pour faire fonctionner le programme , il faudra exécuter toutes les cellules contenant du code dans l'ordre.\n",
    "\n",
    "On commence par importer les bibliothèques nécéssaires :\n",
    "+ matplotlib.pyplot permet de tracer et d'organiser les graphiques\n",
    "+ csv permet de lire et d'importer les données stockées dans un fichier.csv"
   ]
  },
  {
   "cell_type": "code",
   "execution_count": null,
   "metadata": {},
   "outputs": [],
   "source": [
    "import matplotlib.pyplot as plt\n",
    "import csv"
   ]
  },
  {
   "cell_type": "markdown",
   "metadata": {},
   "source": [
    "On crée deux listes vides. Elles seront remplies avec les données du fichier .csv."
   ]
  },
  {
   "cell_type": "code",
   "execution_count": null,
   "metadata": {},
   "outputs": [],
   "source": [
    "x=[]\n",
    "y=[]"
   ]
  },
  {
   "cell_type": "markdown",
   "metadata": {},
   "source": [
    "Ensuite, on remplit les listes avec le fichier .csv\n",
    "+ ligne_lue=ligne.split(';'): on sépare les données qui sont séparées par le signe ;\n",
    "+  x.append(float(ligne_lue[1].replace(',','.'))) : la liste vide x se remplit avec les différentes lignes de la colonne 1. (la première colonne est la colonne 0). \n",
    "+ **float** indique le type de données qui sont rentrées. \n",
    "+ replace(',','.'))): les nombre float doivent s'écrire avec un point et non une virgule\n",
    "\n",
    "***travail à faire*** : remplace les ..... par le nom adéquat"
   ]
  },
  {
   "cell_type": "code",
   "execution_count": null,
   "metadata": {},
   "outputs": [],
   "source": [
    "with open('beret.csv','r') as fichier: # à compléter\n",
    "    fichier.readline()\n",
    "    for ligne in fichier:\n",
    "        ligne_lue=ligne.split(';')\n",
    "        x.append(float(ligne_lue[1].replace(',','.'))) # [0] permettrait de récupérer le temps\n",
    "        y.append(float(ligne_lue[3].replace(',','.')))"
   ]
  },
  {
   "cell_type": "markdown",
   "metadata": {},
   "source": [
    "+ on donne l'intervalle de temps entre deux points\n",
    "+ plt.plot(x,y,'r+',ms=20.): tracé de y en fonction de x. on précise le type et la taille du marqueur"
   ]
  },
  {
   "cell_type": "code",
   "execution_count": null,
   "metadata": {},
   "outputs": [],
   "source": [
    "dt =0.04\n",
    "plt.plot(x,y,'r+',ms=20.) # tracé des points, ms détermine la taille des marqueurs.\n",
    "plt.axis('equal')"
   ]
  },
  {
   "cell_type": "markdown",
   "metadata": {},
   "source": [
    "###  <span style=\"color:blue\">Tracés des vecteurs vitesse</span>\n",
    "Ensuite, on calcule les vitesses, à partir du point d'avant et du point d'après.\n",
    "On crée une fonction (def vitesse(x,y,i) ) à laquelle on pourra faire appel pour tracer le vecteur vitesse en un point i de la trajectoire.\n",
    "\n",
    "plt.arrow(x[i],y[i],((x[i+1]-x[i]))/(5*dt),((y[i+1]-y[i]))/(5*dt) , shape='full', lw=1,\n",
    "\tlength_includes_head=True, rasterized=True, color='c', head_width=.02,fc='c')\n",
    "+ plt.arrow : tracer une flèche\n",
    "+ plt.arrow(x[i],y[i], : on indique l'origine le la flèche qui correspond aux coordonnées du point i\n",
    "+ ((x[i+1]-x[i]))/(5*dt),((y[i+1]-y[i]))/(5*dt): ce sont les coordonnées de la pointe de la flèche. \n",
    "+ (x[i+1]-x[i]))/(dt) = vx et ((y[i+1]-y[i]))/(dt) = vy. A partir d'un point de coordonnée x(i) et y(i), on avance à l'horizontale de vx et à la verticale de vy. Le déplacement global correspond au vecteur  vitesse.\n",
    "+ Le 5 qui apparaît sert à gérer l'échellle du document.\n",
    "+ le reste de l'instruction indique que la flèche est inclue dans la longueur, donne des conditions sur la taille, la forme, la couleur de la pointe de flèche.\n"
   ]
  },
  {
   "cell_type": "code",
   "execution_count": null,
   "metadata": {},
   "outputs": [],
   "source": [
    "plt.plot(x,y,'r+',ms=20.) # tracé des points, ms détermine la taille des marqueurs.\n",
    "plt.axis([-0.1,2.0,0, 1.6])\n",
    "def vitesse(x,y,i) :\n",
    "\t# x et y sont des listes contenant les coordonnées, i le numéro du point\n",
    "\t# dont on affiche la vitesse\n",
    "\tplt.arrow(x[i],y[i],((x[i+1]-x[i]))/(5*dt),((y[i+1]-y[i]))/(5*dt) , shape='full', lw=1,\n",
    "\tlength_includes_head=True, rasterized=True, color='c', head_width=.02,fc='c')\n",
    "\n",
    "vitesse(x,y,5) # appel de la fonction, ici au point 17 (4+1).\n",
    " # affichage du tracé.\n",
    "vitesse(x,y,11)"
   ]
  },
  {
   "cell_type": "markdown",
   "metadata": {},
   "source": [
    "On peut faire une boucle pour tracer les vecteurs vitesses un point sur trois."
   ]
  },
  {
   "cell_type": "code",
   "execution_count": null,
   "metadata": {},
   "outputs": [],
   "source": [
    "plt.plot(x,y,'r+',ms=20.) # tracé des points, ms détermine la taille des marqueurs.\n",
    "plt.axis([-0.1,2.0,0, 1.6])\n",
    "\n",
    "j = 1\n",
    "while j < len(x) -1 :\n",
    "    vitesse(x,y,j)\n",
    "    j = j+3"
   ]
  },
  {
   "cell_type": "markdown",
   "metadata": {},
   "source": [
    "###  <span style=\"color:blue\">Tracés des vecteurs variations de vitesse</span>"
   ]
  },
  {
   "cell_type": "code",
   "execution_count": null,
   "metadata": {},
   "outputs": [],
   "source": [
    "plt.plot(x,y,'r+',ms=20.) # tracé des points, ms détermine la taille des marqueurs.\n",
    "plt.axis([-0.1,2.0,0, 1.6])\n",
    "def varvitesse (x,y,i) :\n",
    "    vxmoinsun = (x[i]-x[i-2])/(2*dt)\n",
    "    vxplusun = (x[i+2]-x[i])/(2*dt)\n",
    "    vymoinsun = (y[i]-y[i-2])/(2*dt)\n",
    "    vyplusun = (y[i+2]-y[i])/(2*dt)\n",
    "    plt.arrow(x[i],y[i],vxplusun-vxmoinsun,vyplusun-vymoinsun , shape='full', lw=1,length_includes_head=True, rasterized=True, color=\"blue\", head_width=.02,fc='blue')# à compléter\n",
    "i=2\n",
    "while i <len(x) - 2 :\n",
    "    varvitesse(x,y,i)\n",
    "    i = i+2\n",
    "\n",
    "plt.xlabel(\"x (en m)\")\n",
    "plt.ylabel(\"y (en m)\")\n",
    "plt.title(\"Trajectoire du mobile\",fontsize=8)\n",
    "plt.show()"
   ]
  },
  {
   "cell_type": "code",
   "execution_count": null,
   "metadata": {},
   "outputs": [],
   "source": [
    "plt.plot(x,y,'r+',ms=20.) # tracé des points, ms détermine la taille des marqueurs.\n",
    "plt.axis([-0.1,2.0,0, 1.6])\n",
    "def varvitesse (x,y,i) :\n",
    "    vxmoinsun = (x[i]-x[i-1])/dt\n",
    "    vxplusun = (x[i+1]-x[i])/dt\n",
    "    vymoinsun = (y[i]-y[i-1])/dt\n",
    "    vyplusun = (y[i+1]-y[i])/dt\n",
    "    plt.arrow(x[i],y[i],vxplusun-vxmoinsun,vyplusun-vymoinsun , shape='full', lw=1,length_includes_head=True, rasterized=True, color=\"blue\", head_width=.02,fc='blue')# à compléter\n",
    "i=1\n",
    "while i <len(x) - 1 :\n",
    "    varvitesse(x,y,i)\n",
    "    i = i+2\n",
    "\n",
    "plt.xlabel(\"x (en m)\")\n",
    "plt.ylabel(\"y (en m)\")\n",
    "plt.title(\"Trajectoire du mobile\",fontsize=8)\n",
    "plt.show()"
   ]
  },
  {
   "cell_type": "code",
   "execution_count": null,
   "metadata": {},
   "outputs": [],
   "source": []
  },
  {
   "cell_type": "code",
   "execution_count": null,
   "metadata": {},
   "outputs": [],
   "source": []
  }
 ],
 "metadata": {
  "kernelspec": {
   "display_name": "Python 3",
   "language": "python",
   "name": "python3"
  },
  "language_info": {
   "codemirror_mode": {
    "name": "ipython",
    "version": 3
   },
   "file_extension": ".py",
   "mimetype": "text/x-python",
   "name": "python",
   "nbconvert_exporter": "python",
   "pygments_lexer": "ipython3",
   "version": "3.7.3"
  }
 },
 "nbformat": 4,
 "nbformat_minor": 2
}
