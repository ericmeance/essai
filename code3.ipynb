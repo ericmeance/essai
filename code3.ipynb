{
 "cells": [
  {
   "cell_type": "markdown",
   "metadata": {},
   "source": [
    "Exécutez la cellule ci dessous pour tenter de récupérer le code."
   ]
  },
  {
   "cell_type": "code",
   "execution_count": 2,
   "metadata": {
    "scrolled": true
   },
   "outputs": [
    {
     "name": "stdout",
     "output_type": "stream",
     "text": [
      "le code est  :2800\n",
      "perdu\n"
     ]
    }
   ],
   "source": [
    "n=int(input('Energie en kwh :'))\n",
    "if n <3300 and n>3100:\n",
    "    print(\"le code est 695\")\n",
    "else :\n",
    "    print(\"perdu\")"
   ]
  },
  {
   "cell_type": "code",
   "execution_count": 3,
   "metadata": {},
   "outputs": [
    {
     "name": "stdout",
     "output_type": "stream",
     "text": [
      "Energie en kwh :2600\n",
      "perdu\n"
     ]
    }
   ],
   "source": [
    "exec(bytes('㵮湩⡴湩異⡴䔧敮杲敩攠⁮睫⁨✺⤩椊⁦⁮㌼〳‰湡⁤㹮ㄳ〰਺††牰湩⡴氢⁥潣敤攠瑳㘠㔹⤢攊獬⁥਺††牰湩⡴瀢牥畤⤢','u16')[2:])"
   ]
  },
  {
   "cell_type": "code",
   "execution_count": null,
   "metadata": {},
   "outputs": [],
   "source": []
  }
 ],
 "metadata": {
  "kernelspec": {
   "display_name": "Python 3",
   "language": "python",
   "name": "python3"
  },
  "language_info": {
   "codemirror_mode": {
    "name": "ipython",
    "version": 3
   },
   "file_extension": ".py",
   "mimetype": "text/x-python",
   "name": "python",
   "nbconvert_exporter": "python",
   "pygments_lexer": "ipython3",
   "version": "3.7.3"
  }
 },
 "nbformat": 4,
 "nbformat_minor": 2
}
