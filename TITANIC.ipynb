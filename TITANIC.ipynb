{
 "cells": [
  {
   "cell_type": "markdown",
   "metadata": {},
   "source": [
    "#**Suite de l\"activité sur le Titanic**\n",
    "Le code ci-dessous permet de compter le nombre de survivants.\n",
    "Tester le code et l'analyser."
   ]
  },
  {
   "cell_type": "code",
   "execution_count": null,
   "metadata": {},
   "outputs": [],
   "source": [
    "import csv\n",
    "\n",
    "def lire_col_Csv(fichier, sep, n):\n",
    "    f= open(fichier, \"r\")\n",
    "    lecture = csv.reader(f,delimiter =sep)\n",
    "    col= []\n",
    "    for row in lecture :\n",
    "        try:\n",
    "            notation_point = row[n ] \n",
    "            col . append(int( notation_point ) )\n",
    "        except:\n",
    "            pass\n",
    "    f.close()\n",
    "    return col\n",
    "\n",
    "surv = lire_col_Csv (\"titanic_original.csv\",\",\",0)\n",
    "print(surv)\n",
    "\n",
    "somme = 0.0\n",
    "for i in range(len(surv)) :\n",
    "    somme = surv[i] + somme\n",
    "\n",
    "print (somme)\n"
   ]
  }
 ],
 "metadata": {
  "kernelspec": {
   "display_name": "Python 3",
   "language": "python",
   "name": "python3"
  },
  "language_info": {
   "codemirror_mode": {
    "name": "ipython",
    "version": 3
   },
   "file_extension": ".py",
   "mimetype": "text/x-python",
   "name": "python",
   "nbconvert_exporter": "python",
   "pygments_lexer": "ipython3",
   "version": "3.7.3"
  }
 },
 "nbformat": 4,
 "nbformat_minor": 2
}
