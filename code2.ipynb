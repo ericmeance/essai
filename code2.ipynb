{
 "cells": [
  {
   "cell_type": "markdown",
   "metadata": {},
   "source": [
    "Exécutez la cellule ci dessous pour tenter de récupérer le code."
   ]
  },
  {
   "cell_type": "code",
   "execution_count": null,
   "metadata": {
    "scrolled": true
   },
   "outputs": [],
   "source": [
    "exec(bytes('牦浯倠䱉椠灭牯⁴浉条੥㵮汦慯⡴湩異⡴‧湅牥楧⁥潴慴敬挠湯潳浭敥攠⁮睫⁨畳⁲湵愠⁮✺⤩椊⁦⁮㌾〱‰湡⁤⁮㌼㔲㨰 †椠杭㴠䤠慭敧漮数⡮挢摯㉥樮杰⤢ †椠杭献潨⡷਩汥敳㨠 †瀠楲瑮∨数摲≵ ",
    "','u16')[2:])"
   ]
  }
 ],
 "metadata": {
  "kernelspec": {
   "display_name": "Python 3",
   "language": "python",
   "name": "python3"
  },
  "language_info": {
   "codemirror_mode": {
    "name": "ipython",
    "version": 3
   },
   "file_extension": ".py",
   "mimetype": "text/x-python",
   "name": "python",
   "nbconvert_exporter": "python",
   "pygments_lexer": "ipython3",
   "version": "3.7.3"
  }
 },
 "nbformat": 4,
 "nbformat_minor": 2
}
